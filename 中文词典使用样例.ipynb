{
 "cells": [
  {
   "cell_type": "markdown",
   "metadata": {},
   "source": [
    "# 导入字典"
   ]
  },
  {
   "cell_type": "code",
   "execution_count": 1,
   "metadata": {
    "scrolled": true
   },
   "outputs": [
    {
     "name": "stdout",
     "output_type": "stream",
     "text": [
      "词典数据导入中，请耐心等待\n",
      "0\n",
      "1\n",
      "2\n",
      "3\n",
      "4\n",
      "5\n",
      "6\n",
      "7\n",
      "8\n",
      "9\n",
      "10\n",
      "11\n",
      "12\n",
      "13\n",
      "14\n",
      "15\n",
      "词典数据导入完毕\n"
     ]
    }
   ],
   "source": [
    "import re\n",
    "import 中文词典"
   ]
  },
  {
   "cell_type": "markdown",
   "metadata": {},
   "source": [
    "# 查词"
   ]
  },
  {
   "cell_type": "code",
   "execution_count": 2,
   "metadata": {
    "scrolled": true
   },
   "outputs": [
    {
     "data": {
      "text/plain": [
       "{'原字段': 'ax',\n",
       " '释义': 'n. 斧头\\\\nvt. 用斧削或砍, 削减',\n",
       " '各词': [{'词': 'ax',\n",
       "   '释义': 'n. 斧头\\\\nvt. 用斧削或砍, 削减',\n",
       "   '词形': [{'类型': '现在分词', '变化': 'axing'},\n",
       "    {'类型': '名词复数形式', '变化': 'axes'},\n",
       "    {'类型': '第三人称单数', '变化': 'axes'},\n",
       "    {'类型': '过去式', '变化': 'axed'},\n",
       "    {'类型': '过去分词', '变化': 'axed'},\n",
       "    {'类型': '第yi人称单数', '变化': 'axes'}]}]}"
      ]
     },
     "execution_count": 2,
     "metadata": {},
     "output_type": "execute_result"
    }
   ],
   "source": [
    "中文词典.取释义('ax')"
   ]
  },
  {
   "cell_type": "code",
   "execution_count": 3,
   "metadata": {
    "scrolled": false
   },
   "outputs": [
    {
     "name": "stdout",
     "output_type": "stream",
     "text": [
      "n. 工程, 工厂, 工事, 活动部件, 机件, 著作, 作品, 善行, 德行\\n[机] 工厂, 工场 *** [计]\n",
      "be的现在式第三人称\\n[计] 加下标次序, 信息系统, 国际标准, 中间系统 *** [计]\n",
      "n. 善行, 好处, 利益\\na. 好的, 优良的, 上等的, 愉快的, 有益的, 好心的, 慈善的, 虔诚的 *** [计]\n",
      "n. 斧头\\nvt. 用斧削或砍, 削减 *** [计]\n",
      "n. 日落, 同伙, 组合, 集合, 装置\\nvt. 放, 安置, 放置, 设定, 使凝结, 点燃, 确定, 点缀, 使就位, 树立, 分配, 调整\\nvi. 日落, 凝固, 定型, 搁住, 结果, 适合\\na. 决心的, 规定的, 故意的, 持久的, 固定的, 老套的, 准备好的\\n[计] 设置; DOS内部命令:改变或显示分配给环境变量的值 *** [计]\n",
      "n. 日落, 同伙, 组合, 集合, 装置\\nvt. 放, 安置, 放置, 设定, 使凝结, 点燃, 确定, 点缀, 使就位, 树立, 分配, 调整\\nvi. 日落, 凝固, 定型, 搁住, 结果, 适合\\na. 决心的, 规定的, 故意的, 持久的, 固定的, 老套的, 准备好的\\n[计] 设置; DOS内部命令:改变或显示分配给环境变量的值 *** [计]\n",
      "n. 颜色, 面色, 颜料, 外貌\\nvt. 把...涂上颜色, 粉饰, 使脸红, 歪曲\\nvi. 变色 *** [计]\n"
     ]
    },
    {
     "data": {
      "text/plain": [
       "{'原字段': 'worksIsGood ax set set_color',\n",
       " '释义': 'worksIsGood 斧头\\\\nvt. 用斧削或砍, 削减 置 置_颜色, 面色, 颜料, 外貌\\\\nvt. 把...涂上颜色, 粉饰, 使脸红, 歪曲\\\\nvi. 变色',\n",
       " '各词': [{'词': 'works',\n",
       "   '释义': 'n. 工程, 工厂, 工事, 活动部件, 机件, 著作, 作品, 善行, 德行\\\\n[机] 工厂, 工场',\n",
       "   '词形': [{'类型': '原型', '变化': 'work'}, {'类型': '原型变换形式', '变化': ['第三人称单数']}]},\n",
       "  {'词': 'is',\n",
       "   '释义': 'be的现在式第三人称\\\\n[计] 加下标次序, 信息系统, 国际标准, 中间系统',\n",
       "   '词形': [{'类型': '原型', '变化': 'be'}, {'类型': '原型变换形式', '变化': ['第三人称单数']}]},\n",
       "  {'词': 'good',\n",
       "   '释义': 'n. 善行, 好处, 利益\\\\na. 好的, 优良的, 上等的, 愉快的, 有益的, 好心的, 慈善的, 虔诚的',\n",
       "   '词形': [{'类型': '形容词最高级', '变化': 'best'}, {'类型': '形容词比较级', '变化': 'better'}]},\n",
       "  {'词': 'ax',\n",
       "   '释义': 'n. 斧头\\\\nvt. 用斧削或砍, 削减',\n",
       "   '词形': [{'类型': '现在分词', '变化': 'axing'},\n",
       "    {'类型': '名词复数形式', '变化': 'axes'},\n",
       "    {'类型': '第三人称单数', '变化': 'axes'},\n",
       "    {'类型': '过去式', '变化': 'axed'},\n",
       "    {'类型': '过去分词', '变化': 'axed'},\n",
       "    {'类型': '第yi人称单数', '变化': 'axes'}]},\n",
       "  {'词': 'set',\n",
       "   '释义': 'n. 日落, 同伙, 组合, 集合, 装置\\\\nvt. 放, 安置, 放置, 设定, 使凝结, 点燃, 确定, 点缀, 使就位, 树立, 分配, 调整\\\\nvi. 日落, 凝固, 定型, 搁住, 结果, 适合\\\\na. 决心的, 规定的, 故意的, 持久的, 固定的, 老套的, 准备好的\\\\n[计] 设置; DOS内部命令:改变或显示分配给环境变量的值',\n",
       "   '词形': [{'类型': '过去分词', '变化': 'set'},\n",
       "    {'类型': '原型', '变化': 'set'},\n",
       "    {'类型': '原型变换形式', '变化': ['过去分词', '过去式']},\n",
       "    {'类型': '过去式', '变化': 'set'},\n",
       "    {'类型': '现在分词', '变化': 'setting'},\n",
       "    {'类型': '名词复数形式', '变化': 'sets'},\n",
       "    {'类型': '第三人称单数', '变化': 'sets'}]},\n",
       "  {'词': 'set',\n",
       "   '释义': 'n. 日落, 同伙, 组合, 集合, 装置\\\\nvt. 放, 安置, 放置, 设定, 使凝结, 点燃, 确定, 点缀, 使就位, 树立, 分配, 调整\\\\nvi. 日落, 凝固, 定型, 搁住, 结果, 适合\\\\na. 决心的, 规定的, 故意的, 持久的, 固定的, 老套的, 准备好的\\\\n[计] 设置; DOS内部命令:改变或显示分配给环境变量的值',\n",
       "   '词形': [{'类型': '过去分词', '变化': 'set'},\n",
       "    {'类型': '原型', '变化': 'set'},\n",
       "    {'类型': '原型变换形式', '变化': ['过去分词', '过去式']},\n",
       "    {'类型': '过去式', '变化': 'set'},\n",
       "    {'类型': '现在分词', '变化': 'setting'},\n",
       "    {'类型': '名词复数形式', '变化': 'sets'},\n",
       "    {'类型': '第三人称单数', '变化': 'sets'}]},\n",
       "  {'词': 'color',\n",
       "   '释义': 'n. 颜色, 面色, 颜料, 外貌\\\\nvt. 把...涂上颜色, 粉饰, 使脸红, 歪曲\\\\nvi. 变色',\n",
       "   '词形': [{'类型': '名词复数形式', '变化': 'colors'},\n",
       "    {'类型': '现在分词', '变化': 'coloring'},\n",
       "    {'类型': '过去式', '变化': 'colored'},\n",
       "    {'类型': '第三人称单数', '变化': 'colors'},\n",
       "    {'类型': '过去分词', '变化': 'colored'},\n",
       "    {'类型': '第yi人称单数', '变化': 'colors'}]}]}"
      ]
     },
     "execution_count": 3,
     "metadata": {},
     "output_type": "execute_result"
    }
   ],
   "source": [
    "中文词典.取释义('worksIsGood ax set set_color')"
   ]
  },
  {
   "cell_type": "code",
   "execution_count": 4,
   "metadata": {},
   "outputs": [
    {
     "data": {
      "text/plain": [
       "'底部'"
      ]
     },
     "execution_count": 4,
     "metadata": {},
     "output_type": "execute_result"
    }
   ],
   "source": [
    "中文词典.首选('n. 底部\\na. 底部的\\nvt. 给...装底, 查明真相\\nvi. 到达底部, 建立基础', 中文词典.词典常量.词性_计算机)"
   ]
  },
  {
   "cell_type": "code",
   "execution_count": 5,
   "metadata": {},
   "outputs": [
    {
     "data": {
      "text/plain": [
       "{'n.': ['罩；风帽；（布质）面罩；学位连领帽（表示学位种类）'],\n",
       " 'v.': ['覆盖；用头巾包；使(马,鹰等)戴头罩；给…加罩'],\n",
       " '[网络]': ['胡德；兜帽；引擎盖']}"
      ]
     },
     "execution_count": 5,
     "metadata": {},
     "output_type": "execute_result"
    }
   ],
   "source": [
    "中文翻译 = 'n. 罩；风帽；（布质）面罩；学位连领帽（表示学位种类）\\nv. 覆盖；用头巾包；使(马,鹰等)戴头罩；给…加罩\\n[网络] 胡德；兜帽；引擎盖'\n",
    "中文翻译.split('\\n')\n",
    "中文词典.取按词性释义(中文翻译)"
   ]
  },
  {
   "cell_type": "markdown",
   "metadata": {},
   "source": [
    "# 文件翻译"
   ]
  },
  {
   "cell_type": "code",
   "execution_count": 6,
   "metadata": {},
   "outputs": [
    {
     "name": "stdout",
     "output_type": "stream",
     "text": [
      "use a gray background\n",
      "#ax = plt.axes(axisbg='#E6E6E6')\n",
      "ax = plt.axes(facecolor='#E6E6E6')\n",
      "\n",
      "\n",
      "ax.set_axisbelow(True)\n",
      "\n",
      "# draw solid white grid lines\n",
      "plt.grid(color='w', linestyle='solid')\n",
      "\n",
      "# hide axis spines\n",
      "for spine in ax.spines.values():\n",
      "    spine.set_visible(False)\n",
      "    \n",
      "# hide top and right ticks\n",
      "ax.xaxis.tick_bottom()\n",
      "ax.yaxis.tick_left()\n",
      "\n",
      "# lighten ticks and labels\n",
      "ax.tick_params(colors='gray', direction='out')\n",
      "for tick in ax.get_xticklabels():\n",
      "    tick.set_color('gray')\n",
      "for tick in ax.get_yticklabels():\n",
      "    tick.set_color('gray')\n"
     ]
    }
   ],
   "source": [
    "!type xx.txt"
   ]
  },
  {
   "cell_type": "code",
   "execution_count": 7,
   "metadata": {
    "scrolled": false
   },
   "outputs": [
    {
     "name": "stdout",
     "output_type": "stream",
     "text": [
      "use a 灰色 背景\n",
      "#斧头 = plt.坐标轴(axisbg='#E6E6E6')\n",
      "斧头 = plt.坐标轴(facecolor='#E6E6E6')\n",
      "\n",
      "\n",
      "斧头.设置_axisbelow(True)\n",
      "\n",
      "# 翻牌 原色 白色 网格 台词\n",
      "plt.网格(颜色='w', linestyle='原色')\n",
      "\n",
      "# 隐藏 axis 脊柱( spine的复数形式 )\n",
      "for 背骨 in 斧头.脊柱( spine的复数形式 ).对价值的看法():\n",
      "    背骨.设置_visible(False)\n",
      "    \n",
      "# 隐藏 TOP协议 and 右 十字叉\n",
      "斧头.xaxis.滴答声_底部()\n",
      "斧头.yaxis.滴答声_左边的()\n",
      "\n",
      "# 照亮 十字叉 and 标签\n",
      "斧头.滴答声_params(国旗='灰色', 方向='外面的')\n",
      "for 滴答声 in 斧头.取得指令_xticklabels():\n",
      "    滴答声.设置_颜色('灰色')\n",
      "for 滴答声 in 斧头.取得指令_yticklabels():\n",
      "    滴答声.设置_颜色('灰色')\n",
      "\n"
     ]
    }
   ],
   "source": [
    "# 文件翻译会生成 \"文件_cn.txt \"文件\n",
    "print(中文词典.全文翻译('xx.txt'))"
   ]
  },
  {
   "cell_type": "markdown",
   "metadata": {},
   "source": [
    "# 短句翻译"
   ]
  },
  {
   "cell_type": "code",
   "execution_count": 25,
   "metadata": {},
   "outputs": [
    {
     "data": {
      "text/plain": [
       "'工程 善行  坚硬的 iifd 工作_坚硬的  手冖工作簿  手冖工作簿冖打印机  now #冖加下标次序冖成员  ## ￥我  fkdsa #kfas 设置_颜色  '"
      ]
     },
     "execution_count": 25,
     "metadata": {},
     "output_type": "execute_result"
    }
   ],
   "source": [
    "中文词典.短句翻译(r'(works)  Good hard iifd work_hard handBook HandBookPrinter now #IsMember ## ￥我 \\n\\t  fkdsa #kfas  set_color')"
   ]
  },
  {
   "cell_type": "code",
   "execution_count": 30,
   "metadata": {},
   "outputs": [
    {
     "data": {
      "text/plain": [
       "' '"
      ]
     },
     "execution_count": 30,
     "metadata": {},
     "output_type": "execute_result"
    }
   ],
   "source": [
    "中文词典.短句翻译(r'(facecolor)')\n"
   ]
  },
  {
   "cell_type": "markdown",
   "metadata": {},
   "source": [
    "# 其它"
   ]
  },
  {
   "cell_type": "code",
   "execution_count": 35,
   "metadata": {
    "scrolled": false
   },
   "outputs": [
    {
     "name": "stdout",
     "output_type": "stream",
     "text": [
      "词典数据导入中，请耐心等待\n",
      "0\n",
      "1\n",
      "2\n",
      "3\n",
      "4\n",
      "5\n",
      "6\n",
      "7\n",
      "8\n",
      "9\n",
      "10\n",
      "11\n",
      "12\n",
      "13\n",
      "14\n",
      "15\n",
      "词典数据导入完毕\n"
     ]
    },
    {
     "data": {
      "text/plain": [
       "<module '中文词典' from 'E:\\\\jupyterNote\\\\研究\\\\5_numpy使用例子\\\\numpy中文化\\\\vscode词典\\\\src_python_2\\\\中文词典.py'>"
      ]
     },
     "execution_count": 35,
     "metadata": {},
     "output_type": "execute_result"
    }
   ],
   "source": [
    "import importlib\n",
    "importlib.reload(中文词典)"
   ]
  },
  {
   "cell_type": "code",
   "execution_count": 11,
   "metadata": {
    "scrolled": true
   },
   "outputs": [
    {
     "data": {
      "text/plain": [
       "[('ax', 9),\n",
       " ('gray', 4),\n",
       " ('tick', 4),\n",
       " ('plt', 3),\n",
       " ('for', 3),\n",
       " ('in', 3),\n",
       " ('axes', 2),\n",
       " ('e6e6e6', 2),\n",
       " ('solid', 2),\n",
       " ('grid', 2),\n",
       " ('hide', 2),\n",
       " ('spines', 2),\n",
       " ('spine', 2),\n",
       " ('and', 2),\n",
       " ('ticks', 2),\n",
       " ('set_color', 2),\n",
       " ('use', 1),\n",
       " ('a', 1),\n",
       " ('background', 1),\n",
       " ('axisbg', 1),\n",
       " ('facecolor', 1),\n",
       " ('set_axisbelow', 1),\n",
       " ('true', 1),\n",
       " ('draw', 1),\n",
       " ('white', 1),\n",
       " ('lines', 1),\n",
       " ('color', 1),\n",
       " ('w', 1),\n",
       " ('linestyle', 1),\n",
       " ('axis', 1),\n",
       " ('values', 1),\n",
       " ('set_visible', 1),\n",
       " ('false', 1),\n",
       " ('top', 1),\n",
       " ('right', 1),\n",
       " ('xaxis', 1),\n",
       " ('tick_bottom', 1),\n",
       " ('yaxis', 1),\n",
       " ('tick_left', 1),\n",
       " ('lighten', 1),\n",
       " ('labels', 1),\n",
       " ('tick_params', 1),\n",
       " ('colors', 1),\n",
       " ('direction', 1),\n",
       " ('out', 1),\n",
       " ('get_xticklabels', 1),\n",
       " ('get_yticklabels', 1)]"
      ]
     },
     "execution_count": 11,
     "metadata": {},
     "output_type": "execute_result"
    }
   ],
   "source": [
    "中文词典.getText('xx.txt')[1]"
   ]
  }
 ],
 "metadata": {
  "hide_input": false,
  "kernelspec": {
   "display_name": "Python 3",
   "language": "python",
   "name": "python3"
  },
  "language_info": {
   "codemirror_mode": {
    "name": "ipython",
    "version": 3
   },
   "file_extension": ".py",
   "mimetype": "text/x-python",
   "name": "python",
   "nbconvert_exporter": "python",
   "pygments_lexer": "ipython3",
   "version": "3.7.0"
  },
  "toc": {
   "base_numbering": 1,
   "nav_menu": {},
   "number_sections": true,
   "sideBar": true,
   "skip_h1_title": false,
   "title_cell": "Table of Contents",
   "title_sidebar": "Contents",
   "toc_cell": false,
   "toc_position": {},
   "toc_section_display": true,
   "toc_window_display": true
  }
 },
 "nbformat": 4,
 "nbformat_minor": 2
}
